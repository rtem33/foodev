{
 "cells": [
  {
   "cell_type": "code",
   "execution_count": 69,
   "id": "5853c5fa-c1a4-49f4-8ab8-a43fb44da9b1",
   "metadata": {},
   "outputs": [
    {
     "data": {
      "text/plain": [
       "'C:\\\\Projects\\\\ODS_Avito_hack'"
      ]
     },
     "execution_count": 69,
     "metadata": {},
     "output_type": "execute_result"
    }
   ],
   "source": [
    "import os\n",
    "import pandas as pd\n",
    "import pyarrow.parquet as pq\n",
    "import sklearn\n",
    "import matplotlib.pyplot as plt\n",
    "import gc # для gc.collect()\n",
    "\n",
    "cwd = r'C:\\Projects\\ODS_Avito_hack'\n",
    "os.chdir(cwd)\n",
    "os.getcwd()"
   ]
  },
  {
   "cell_type": "code",
   "execution_count": 71,
   "id": "0eda7c52-840e-4f50-97d8-54c77abe6c6d",
   "metadata": {},
   "outputs": [],
   "source": [
    "#Source\n",
    "train_data = cwd + r'\\train.parquet'\n",
    "test_data = cwd + r'\\test.parquet.parquet'\n",
    "categories_data = cwd + r'\\categories.parquet.csv.parquet' # данные о логических категориях\n",
    "campaigns_data = cwd + r'\\campaigns_meta.parquet.parquet' # данные о рекламных кампаниях\n",
    "\n",
    "# Загрузка данных с указанием batch_size\n",
    "train_pq = pq.ParquetFile(train_data)\n",
    "# обычный способ\n",
    "train = pd.read_parquet(train_data) \n",
    "test = pd.read_parquet(test_data)\n",
    "categories = pd.read_parquet(categories_data)\n",
    "campaigns = pd.read_parquet(campaigns_data)"
   ]
  },
  {
   "cell_type": "code",
   "execution_count": 11,
   "id": "b3a05fd7-b9d3-4fe2-92a1-a3ffdd6dff56",
   "metadata": {},
   "outputs": [],
   "source": [
    "# Бейзлайн от Авито - если пользователь уже видел рекламу и кликнул на нее, то он снова сделает клик. Если же реклама была показана, но клик не последовал, то и в следующий раз клик маловероятен.\n",
    "user_ads_clicks = train.groupby([\"user_id\", \"adv_campaign_id\"], as_index=False)[\"target\"].max()\n",
    "test = test.merge(user_ads_clicks, on=[\"user_id\", \"adv_campaign_id\"], how=\"left\")\n",
    "test[\"predict\"] = test[\"target\"].fillna(0.5)\n",
    "test[[\"user_id\", \"adv_campaign_id\", \"predict\"]].to_csv(\"sample_submission.csv\", index=False)\n"
   ]
  },
  {
   "cell_type": "code",
   "execution_count": 51,
   "id": "feaa518f-c570-4aae-ac5f-f3f37126d3bf",
   "metadata": {},
   "outputs": [
    {
     "name": "stdout",
     "output_type": "stream",
     "text": [
      "<class 'pandas.core.frame.DataFrame'>\n",
      "RangeIndex: 114741035 entries, 0 to 114741034\n",
      "Data columns (total 8 columns):\n",
      " #   Column           Dtype \n",
      "---  ------           ----- \n",
      " 0   user_id          int64 \n",
      " 1   adv_campaign_id  int64 \n",
      " 2   platform_id      int64 \n",
      " 3   adv_creative_id  int64 \n",
      " 4   event_date       object\n",
      " 5   banner_code      int64 \n",
      " 6   is_main          bool  \n",
      " 7   target           int32 \n",
      "dtypes: bool(1), int32(1), int64(5), object(1)\n",
      "memory usage: 5.7+ GB\n",
      "None\n",
      "**********************************\n",
      "   user_id  adv_campaign_id  platform_id  adv_creative_id  event_date  \\\n",
      "0  2853707             3352            3             3075  2024-09-17   \n",
      "1  2537244             4029            2             3260  2024-09-17   \n",
      "2    63033             1578            3             1109  2024-09-17   \n",
      "3   164702             3434            1             1079  2024-09-17   \n",
      "4  2802905             2208            3             3576  2024-09-17   \n",
      "\n",
      "   banner_code  is_main  target  \n",
      "0            6     True       0  \n",
      "1            8     True       0  \n",
      "2            6     True       0  \n",
      "3            7     True       0  \n",
      "4            6     True       0  \n"
     ]
    }
   ],
   "source": [
    " #|-- platform_id: id платформы (Android, Ios и т.п.)\n",
    " #|-- user_id: id Пользователя \n",
    " #|-- adv_campaign_id: id рекламной компании \n",
    " #|-- target: клик / не клик\n",
    " #|-- banner_code: код баннера\n",
    " #|-- adv_creative_id: индификатор креатива\n",
    " #|-- event_date: date Дата показа рекламной кампании пользователю\n",
    " #|-- is_main: boolean True - показ рекламы был осуществлен с главной страницы\n",
    "\n",
    "print(train.info())\n",
    "print('**********************************')\n",
    "print(train.head())"
   ]
  },
  {
   "cell_type": "code",
   "execution_count": 95,
   "id": "e81c7156-cd65-4b44-bc22-fa565afc98c4",
   "metadata": {},
   "outputs": [],
   "source": [
    "###### ДОРАБОТКИ, НОРМАЛИЗАЦИЯ ДАТАСЕТОВ ###########\n",
    "train['event_date']=pd.to_datetime(train['event_date']) # преобразовали в дату\n",
    "train[\"target\"] = train['target'].astype(bool)\n",
    "train[\"platform_id\"] = train['platform_id'].astype('int8')\n",
    "train[\"adv_campaign_id\"] = train['adv_campaign_id'].astype('int16')\n",
    "train[\"adv_creative_id\"] = train['adv_creative_id'].astype('int16')\n",
    "train[\"banner_code\"] = train['banner_code'].astype('int8')\n",
    "train[\"user_id\"] = train['user_id'].astype('int32')"
   ]
  },
  {
   "cell_type": "code",
   "execution_count": 97,
   "id": "8a407a3e-d0e4-4d61-a64c-9cf9ab451fef",
   "metadata": {},
   "outputs": [
    {
     "name": "stdout",
     "output_type": "stream",
     "text": [
      "<class 'pandas.core.frame.DataFrame'>\n",
      "RangeIndex: 114741035 entries, 0 to 114741034\n",
      "Data columns (total 8 columns):\n",
      " #   Column           Dtype         \n",
      "---  ------           -----         \n",
      " 0   user_id          int32         \n",
      " 1   adv_campaign_id  int16         \n",
      " 2   platform_id      int8          \n",
      " 3   adv_creative_id  int16         \n",
      " 4   event_date       datetime64[ns]\n",
      " 5   banner_code      int8          \n",
      " 6   is_main          bool          \n",
      " 7   target           bool          \n",
      "dtypes: bool(2), datetime64[ns](1), int16(2), int32(1), int8(2)\n",
      "memory usage: 2.1 GB\n",
      "None\n",
      "**********************************\n",
      "   user_id  adv_campaign_id  platform_id  adv_creative_id event_date  \\\n",
      "0  2853707             3352            3             3075 2024-09-17   \n",
      "1  2537244             4029            2             3260 2024-09-17   \n",
      "2    63033             1578            3             1109 2024-09-17   \n",
      "3   164702             3434            1             1079 2024-09-17   \n",
      "4  2802905             2208            3             3576 2024-09-17   \n",
      "\n",
      "   banner_code  is_main  target  \n",
      "0            6     True   False  \n",
      "1            8     True   False  \n",
      "2            6     True   False  \n",
      "3            7     True   False  \n",
      "4            6     True   False  \n"
     ]
    }
   ],
   "source": [
    "print(train.info())\n",
    "print('**********************************')\n",
    "print(train.head())"
   ]
  },
  {
   "cell_type": "code",
   "execution_count": 67,
   "id": "efd91103-95e4-416f-9ce9-1dab1c28cf56",
   "metadata": {},
   "outputs": [
    {
     "data": {
      "text/plain": [
       "2248"
      ]
     },
     "execution_count": 67,
     "metadata": {},
     "output_type": "execute_result"
    }
   ],
   "source": [
    "gc.collect()"
   ]
  },
  {
   "cell_type": "code",
   "execution_count": 63,
   "id": "11268ecd-74e4-48cc-b101-d5e4d1beba71",
   "metadata": {},
   "outputs": [
    {
     "ename": "MemoryError",
     "evalue": "Unable to allocate 3.42 GiB for an array with shape (4, 114741035) and data type int64",
     "output_type": "error",
     "traceback": [
      "\u001b[1;31m---------------------------------------------------------------------------\u001b[0m",
      "\u001b[1;31mMemoryError\u001b[0m                               Traceback (most recent call last)",
      "Cell \u001b[1;32mIn[63], line 1\u001b[0m\n\u001b[1;32m----> 1\u001b[0m \u001b[38;5;28mprint\u001b[39m(train\u001b[38;5;241m.\u001b[39mdescribe())\n",
      "File \u001b[1;32mC:\\ProgramData\\anaconda3\\Lib\\site-packages\\pandas\\core\\generic.py:10819\u001b[0m, in \u001b[0;36mNDFrame.describe\u001b[1;34m(self, percentiles, include, exclude)\u001b[0m\n\u001b[0;32m  10577\u001b[0m \u001b[38;5;129m@final\u001b[39m\n\u001b[0;32m  10578\u001b[0m \u001b[38;5;28;01mdef\u001b[39;00m \u001b[38;5;21mdescribe\u001b[39m(\n\u001b[0;32m  10579\u001b[0m     \u001b[38;5;28mself\u001b[39m: NDFrameT,\n\u001b[1;32m   (...)\u001b[0m\n\u001b[0;32m  10582\u001b[0m     exclude\u001b[38;5;241m=\u001b[39m\u001b[38;5;28;01mNone\u001b[39;00m,\n\u001b[0;32m  10583\u001b[0m ) \u001b[38;5;241m-\u001b[39m\u001b[38;5;241m>\u001b[39m NDFrameT:\n\u001b[0;32m  10584\u001b[0m \u001b[38;5;250m    \u001b[39m\u001b[38;5;124;03m\"\"\"\u001b[39;00m\n\u001b[0;32m  10585\u001b[0m \u001b[38;5;124;03m    Generate descriptive statistics.\u001b[39;00m\n\u001b[0;32m  10586\u001b[0m \n\u001b[1;32m   (...)\u001b[0m\n\u001b[0;32m  10817\u001b[0m \u001b[38;5;124;03m    max            NaN      3.0\u001b[39;00m\n\u001b[0;32m  10818\u001b[0m \u001b[38;5;124;03m    \"\"\"\u001b[39;00m\n\u001b[1;32m> 10819\u001b[0m     \u001b[38;5;28;01mreturn\u001b[39;00m describe_ndframe(\n\u001b[0;32m  10820\u001b[0m         obj\u001b[38;5;241m=\u001b[39m\u001b[38;5;28mself\u001b[39m,\n\u001b[0;32m  10821\u001b[0m         include\u001b[38;5;241m=\u001b[39minclude,\n\u001b[0;32m  10822\u001b[0m         exclude\u001b[38;5;241m=\u001b[39mexclude,\n\u001b[0;32m  10823\u001b[0m         percentiles\u001b[38;5;241m=\u001b[39mpercentiles,\n\u001b[0;32m  10824\u001b[0m     )\n",
      "File \u001b[1;32mC:\\ProgramData\\anaconda3\\Lib\\site-packages\\pandas\\core\\methods\\describe.py:94\u001b[0m, in \u001b[0;36mdescribe_ndframe\u001b[1;34m(obj, include, exclude, percentiles)\u001b[0m\n\u001b[0;32m     87\u001b[0m \u001b[38;5;28;01melse\u001b[39;00m:\n\u001b[0;32m     88\u001b[0m     describer \u001b[38;5;241m=\u001b[39m DataFrameDescriber(\n\u001b[0;32m     89\u001b[0m         obj\u001b[38;5;241m=\u001b[39mcast(\u001b[38;5;124m\"\u001b[39m\u001b[38;5;124mDataFrame\u001b[39m\u001b[38;5;124m\"\u001b[39m, obj),\n\u001b[0;32m     90\u001b[0m         include\u001b[38;5;241m=\u001b[39minclude,\n\u001b[0;32m     91\u001b[0m         exclude\u001b[38;5;241m=\u001b[39mexclude,\n\u001b[0;32m     92\u001b[0m     )\n\u001b[1;32m---> 94\u001b[0m result \u001b[38;5;241m=\u001b[39m describer\u001b[38;5;241m.\u001b[39mdescribe(percentiles\u001b[38;5;241m=\u001b[39mpercentiles)\n\u001b[0;32m     95\u001b[0m \u001b[38;5;28;01mreturn\u001b[39;00m cast(NDFrameT, result)\n",
      "File \u001b[1;32mC:\\ProgramData\\anaconda3\\Lib\\site-packages\\pandas\\core\\methods\\describe.py:162\u001b[0m, in \u001b[0;36mDataFrameDescriber.describe\u001b[1;34m(self, percentiles)\u001b[0m\n\u001b[0;32m    161\u001b[0m \u001b[38;5;28;01mdef\u001b[39;00m \u001b[38;5;21mdescribe\u001b[39m(\u001b[38;5;28mself\u001b[39m, percentiles: Sequence[\u001b[38;5;28mfloat\u001b[39m] \u001b[38;5;241m|\u001b[39m np\u001b[38;5;241m.\u001b[39mndarray) \u001b[38;5;241m-\u001b[39m\u001b[38;5;241m>\u001b[39m DataFrame:\n\u001b[1;32m--> 162\u001b[0m     data \u001b[38;5;241m=\u001b[39m \u001b[38;5;28mself\u001b[39m\u001b[38;5;241m.\u001b[39m_select_data()\n\u001b[0;32m    164\u001b[0m     ldesc: \u001b[38;5;28mlist\u001b[39m[Series] \u001b[38;5;241m=\u001b[39m []\n\u001b[0;32m    165\u001b[0m     \u001b[38;5;28;01mfor\u001b[39;00m _, series \u001b[38;5;129;01min\u001b[39;00m data\u001b[38;5;241m.\u001b[39mitems():\n",
      "File \u001b[1;32mC:\\ProgramData\\anaconda3\\Lib\\site-packages\\pandas\\core\\methods\\describe.py:183\u001b[0m, in \u001b[0;36mDataFrameDescriber._select_data\u001b[1;34m(self)\u001b[0m\n\u001b[0;32m    180\u001b[0m \u001b[38;5;28;01mif\u001b[39;00m (\u001b[38;5;28mself\u001b[39m\u001b[38;5;241m.\u001b[39minclude \u001b[38;5;129;01mis\u001b[39;00m \u001b[38;5;28;01mNone\u001b[39;00m) \u001b[38;5;129;01mand\u001b[39;00m (\u001b[38;5;28mself\u001b[39m\u001b[38;5;241m.\u001b[39mexclude \u001b[38;5;129;01mis\u001b[39;00m \u001b[38;5;28;01mNone\u001b[39;00m):\n\u001b[0;32m    181\u001b[0m     \u001b[38;5;66;03m# when some numerics are found, keep only numerics\u001b[39;00m\n\u001b[0;32m    182\u001b[0m     default_include: \u001b[38;5;28mlist\u001b[39m[npt\u001b[38;5;241m.\u001b[39mDTypeLike] \u001b[38;5;241m=\u001b[39m [np\u001b[38;5;241m.\u001b[39mnumber, \u001b[38;5;124m\"\u001b[39m\u001b[38;5;124mdatetime\u001b[39m\u001b[38;5;124m\"\u001b[39m]\n\u001b[1;32m--> 183\u001b[0m     data \u001b[38;5;241m=\u001b[39m \u001b[38;5;28mself\u001b[39m\u001b[38;5;241m.\u001b[39mobj\u001b[38;5;241m.\u001b[39mselect_dtypes(include\u001b[38;5;241m=\u001b[39mdefault_include)\n\u001b[0;32m    184\u001b[0m     \u001b[38;5;28;01mif\u001b[39;00m \u001b[38;5;28mlen\u001b[39m(data\u001b[38;5;241m.\u001b[39mcolumns) \u001b[38;5;241m==\u001b[39m \u001b[38;5;241m0\u001b[39m:\n\u001b[0;32m    185\u001b[0m         data \u001b[38;5;241m=\u001b[39m \u001b[38;5;28mself\u001b[39m\u001b[38;5;241m.\u001b[39mobj\n",
      "File \u001b[1;32mC:\\ProgramData\\anaconda3\\Lib\\site-packages\\pandas\\core\\frame.py:4708\u001b[0m, in \u001b[0;36mDataFrame.select_dtypes\u001b[1;34m(self, include, exclude)\u001b[0m\n\u001b[0;32m   4704\u001b[0m             \u001b[38;5;28;01mreturn\u001b[39;00m \u001b[38;5;28;01mFalse\u001b[39;00m\n\u001b[0;32m   4706\u001b[0m     \u001b[38;5;28;01mreturn\u001b[39;00m \u001b[38;5;28;01mTrue\u001b[39;00m\n\u001b[1;32m-> 4708\u001b[0m mgr \u001b[38;5;241m=\u001b[39m \u001b[38;5;28mself\u001b[39m\u001b[38;5;241m.\u001b[39m_mgr\u001b[38;5;241m.\u001b[39m_get_data_subset(predicate)\u001b[38;5;241m.\u001b[39mcopy(deep\u001b[38;5;241m=\u001b[39m\u001b[38;5;28;01mNone\u001b[39;00m)\n\u001b[0;32m   4709\u001b[0m \u001b[38;5;28;01mreturn\u001b[39;00m \u001b[38;5;28mtype\u001b[39m(\u001b[38;5;28mself\u001b[39m)(mgr)\u001b[38;5;241m.\u001b[39m__finalize__(\u001b[38;5;28mself\u001b[39m)\n",
      "File \u001b[1;32mC:\\ProgramData\\anaconda3\\Lib\\site-packages\\pandas\\core\\internals\\managers.py:664\u001b[0m, in \u001b[0;36mBaseBlockManager.copy\u001b[1;34m(self, deep)\u001b[0m\n\u001b[0;32m    661\u001b[0m         res\u001b[38;5;241m.\u001b[39m_blklocs \u001b[38;5;241m=\u001b[39m \u001b[38;5;28mself\u001b[39m\u001b[38;5;241m.\u001b[39m_blklocs\u001b[38;5;241m.\u001b[39mcopy()\n\u001b[0;32m    663\u001b[0m \u001b[38;5;28;01mif\u001b[39;00m deep:\n\u001b[1;32m--> 664\u001b[0m     res\u001b[38;5;241m.\u001b[39m_consolidate_inplace()\n\u001b[0;32m    665\u001b[0m \u001b[38;5;28;01mreturn\u001b[39;00m res\n",
      "File \u001b[1;32mC:\\ProgramData\\anaconda3\\Lib\\site-packages\\pandas\\core\\internals\\managers.py:1829\u001b[0m, in \u001b[0;36mBlockManager._consolidate_inplace\u001b[1;34m(self)\u001b[0m\n\u001b[0;32m   1823\u001b[0m \u001b[38;5;28;01mdef\u001b[39;00m \u001b[38;5;21m_consolidate_inplace\u001b[39m(\u001b[38;5;28mself\u001b[39m) \u001b[38;5;241m-\u001b[39m\u001b[38;5;241m>\u001b[39m \u001b[38;5;28;01mNone\u001b[39;00m:\n\u001b[0;32m   1824\u001b[0m     \u001b[38;5;66;03m# In general, _consolidate_inplace should only be called via\u001b[39;00m\n\u001b[0;32m   1825\u001b[0m     \u001b[38;5;66;03m#  DataFrame._consolidate_inplace, otherwise we will fail to invalidate\u001b[39;00m\n\u001b[0;32m   1826\u001b[0m     \u001b[38;5;66;03m#  the DataFrame's _item_cache. The exception is for newly-created\u001b[39;00m\n\u001b[0;32m   1827\u001b[0m     \u001b[38;5;66;03m#  BlockManager objects not yet attached to a DataFrame.\u001b[39;00m\n\u001b[0;32m   1828\u001b[0m     \u001b[38;5;28;01mif\u001b[39;00m \u001b[38;5;129;01mnot\u001b[39;00m \u001b[38;5;28mself\u001b[39m\u001b[38;5;241m.\u001b[39mis_consolidated():\n\u001b[1;32m-> 1829\u001b[0m         \u001b[38;5;28mself\u001b[39m\u001b[38;5;241m.\u001b[39mblocks \u001b[38;5;241m=\u001b[39m _consolidate(\u001b[38;5;28mself\u001b[39m\u001b[38;5;241m.\u001b[39mblocks)\n\u001b[0;32m   1830\u001b[0m         \u001b[38;5;28mself\u001b[39m\u001b[38;5;241m.\u001b[39m_is_consolidated \u001b[38;5;241m=\u001b[39m \u001b[38;5;28;01mTrue\u001b[39;00m\n\u001b[0;32m   1831\u001b[0m         \u001b[38;5;28mself\u001b[39m\u001b[38;5;241m.\u001b[39m_known_consolidated \u001b[38;5;241m=\u001b[39m \u001b[38;5;28;01mTrue\u001b[39;00m\n",
      "File \u001b[1;32mC:\\ProgramData\\anaconda3\\Lib\\site-packages\\pandas\\core\\internals\\managers.py:2272\u001b[0m, in \u001b[0;36m_consolidate\u001b[1;34m(blocks)\u001b[0m\n\u001b[0;32m   2270\u001b[0m new_blocks: \u001b[38;5;28mlist\u001b[39m[Block] \u001b[38;5;241m=\u001b[39m []\n\u001b[0;32m   2271\u001b[0m \u001b[38;5;28;01mfor\u001b[39;00m (_can_consolidate, dtype), group_blocks \u001b[38;5;129;01min\u001b[39;00m grouper:\n\u001b[1;32m-> 2272\u001b[0m     merged_blocks, _ \u001b[38;5;241m=\u001b[39m _merge_blocks(\n\u001b[0;32m   2273\u001b[0m         \u001b[38;5;28mlist\u001b[39m(group_blocks), dtype\u001b[38;5;241m=\u001b[39mdtype, can_consolidate\u001b[38;5;241m=\u001b[39m_can_consolidate\n\u001b[0;32m   2274\u001b[0m     )\n\u001b[0;32m   2275\u001b[0m     new_blocks \u001b[38;5;241m=\u001b[39m extend_blocks(merged_blocks, new_blocks)\n\u001b[0;32m   2276\u001b[0m \u001b[38;5;28;01mreturn\u001b[39;00m \u001b[38;5;28mtuple\u001b[39m(new_blocks)\n",
      "File \u001b[1;32mC:\\ProgramData\\anaconda3\\Lib\\site-packages\\pandas\\core\\internals\\managers.py:2304\u001b[0m, in \u001b[0;36m_merge_blocks\u001b[1;34m(blocks, dtype, can_consolidate)\u001b[0m\n\u001b[0;32m   2301\u001b[0m     new_values \u001b[38;5;241m=\u001b[39m bvals2[\u001b[38;5;241m0\u001b[39m]\u001b[38;5;241m.\u001b[39m_concat_same_type(bvals2, axis\u001b[38;5;241m=\u001b[39m\u001b[38;5;241m0\u001b[39m)\n\u001b[0;32m   2303\u001b[0m argsort \u001b[38;5;241m=\u001b[39m np\u001b[38;5;241m.\u001b[39margsort(new_mgr_locs)\n\u001b[1;32m-> 2304\u001b[0m new_values \u001b[38;5;241m=\u001b[39m new_values[argsort]\n\u001b[0;32m   2305\u001b[0m new_mgr_locs \u001b[38;5;241m=\u001b[39m new_mgr_locs[argsort]\n\u001b[0;32m   2307\u001b[0m bp \u001b[38;5;241m=\u001b[39m BlockPlacement(new_mgr_locs)\n",
      "\u001b[1;31mMemoryError\u001b[0m: Unable to allocate 3.42 GiB for an array with shape (4, 114741035) and data type int64"
     ]
    }
   ],
   "source": [
    "print(train.describe())"
   ]
  },
  {
   "cell_type": "code",
   "execution_count": 99,
   "id": "db140971-f599-401c-ac49-6a6e27e4787f",
   "metadata": {},
   "outputs": [
    {
     "name": "stdout",
     "output_type": "stream",
     "text": [
      "1\n",
      "3263622\n"
     ]
    },
    {
     "name": "stderr",
     "output_type": "stream",
     "text": [
      "IOPub data rate exceeded.\n",
      "The Jupyter server will temporarily stop sending output\n",
      "to the client in order to avoid crashing it.\n",
      "To change this limit, set the config variable\n",
      "`--ServerApp.iopub_data_rate_limit`.\n",
      "\n",
      "Current values:\n",
      "ServerApp.iopub_data_rate_limit=1000000.0 (bytes/sec)\n",
      "ServerApp.rate_limit_window=3.0 (secs)\n",
      "\n"
     ]
    }
   ],
   "source": [
    "# Проверка типов\n",
    "print(train['user_id'].min())\n",
    "print(train['user_id'].max())\n",
    "# print(sorted(train['user_id'].unique()))"
   ]
  },
  {
   "cell_type": "code",
   "execution_count": 20,
   "id": "69b660c2-11f3-44d9-bd32-dfbbef4a7d8b",
   "metadata": {},
   "outputs": [
    {
     "ename": "AttributeError",
     "evalue": "'DataFrame' object has no attribute 'iter_batches'",
     "output_type": "error",
     "traceback": [
      "\u001b[1;31m---------------------------------------------------------------------------\u001b[0m",
      "\u001b[1;31mAttributeError\u001b[0m                            Traceback (most recent call last)",
      "Cell \u001b[1;32mIn[20], line 2\u001b[0m\n\u001b[0;32m      1\u001b[0m \u001b[38;5;66;03m# Итерация по батчам (тест)\u001b[39;00m\n\u001b[1;32m----> 2\u001b[0m \u001b[38;5;28;01mfor\u001b[39;00m batch \u001b[38;5;129;01min\u001b[39;00m train\u001b[38;5;241m.\u001b[39miter_batches(batch_size\u001b[38;5;241m=\u001b[39m\u001b[38;5;241m10000\u001b[39m):\n\u001b[0;32m      3\u001b[0m     \u001b[38;5;66;03m# Преобразование батча в pandas DataFrame\u001b[39;00m\n\u001b[0;32m      4\u001b[0m     df_batch \u001b[38;5;241m=\u001b[39m batch\u001b[38;5;241m.\u001b[39mto_pandas()\n\u001b[0;32m      5\u001b[0m     \u001b[38;5;66;03m# Обработка батча\u001b[39;00m\n",
      "File \u001b[1;32mC:\\ProgramData\\anaconda3\\Lib\\site-packages\\pandas\\core\\generic.py:5989\u001b[0m, in \u001b[0;36mNDFrame.__getattr__\u001b[1;34m(self, name)\u001b[0m\n\u001b[0;32m   5982\u001b[0m \u001b[38;5;28;01mif\u001b[39;00m (\n\u001b[0;32m   5983\u001b[0m     name \u001b[38;5;129;01mnot\u001b[39;00m \u001b[38;5;129;01min\u001b[39;00m \u001b[38;5;28mself\u001b[39m\u001b[38;5;241m.\u001b[39m_internal_names_set\n\u001b[0;32m   5984\u001b[0m     \u001b[38;5;129;01mand\u001b[39;00m name \u001b[38;5;129;01mnot\u001b[39;00m \u001b[38;5;129;01min\u001b[39;00m \u001b[38;5;28mself\u001b[39m\u001b[38;5;241m.\u001b[39m_metadata\n\u001b[0;32m   5985\u001b[0m     \u001b[38;5;129;01mand\u001b[39;00m name \u001b[38;5;129;01mnot\u001b[39;00m \u001b[38;5;129;01min\u001b[39;00m \u001b[38;5;28mself\u001b[39m\u001b[38;5;241m.\u001b[39m_accessors\n\u001b[0;32m   5986\u001b[0m     \u001b[38;5;129;01mand\u001b[39;00m \u001b[38;5;28mself\u001b[39m\u001b[38;5;241m.\u001b[39m_info_axis\u001b[38;5;241m.\u001b[39m_can_hold_identifiers_and_holds_name(name)\n\u001b[0;32m   5987\u001b[0m ):\n\u001b[0;32m   5988\u001b[0m     \u001b[38;5;28;01mreturn\u001b[39;00m \u001b[38;5;28mself\u001b[39m[name]\n\u001b[1;32m-> 5989\u001b[0m \u001b[38;5;28;01mreturn\u001b[39;00m \u001b[38;5;28mobject\u001b[39m\u001b[38;5;241m.\u001b[39m\u001b[38;5;21m__getattribute__\u001b[39m(\u001b[38;5;28mself\u001b[39m, name)\n",
      "\u001b[1;31mAttributeError\u001b[0m: 'DataFrame' object has no attribute 'iter_batches'"
     ]
    }
   ],
   "source": [
    "# Итерация по батчам (ТЕСТ)\n",
    "for batch in train.iter_batches(batch_size=10000):\n",
    "    # Преобразование батча в pandas DataFrame\n",
    "    df_batch = batch.to_pandas()\n",
    "    # Обработка батча\n",
    "    print(df_batch.describe())"
   ]
  },
  {
   "cell_type": "code",
   "execution_count": 30,
   "id": "e76132b4-08f6-4943-93ca-13ac96c4251a",
   "metadata": {},
   "outputs": [
    {
     "name": "stdout",
     "output_type": "stream",
     "text": [
      "user_id            0\n",
      "adv_campaign_id    0\n",
      "platform_id        0\n",
      "adv_creative_id    0\n",
      "event_date         0\n",
      "banner_code        0\n",
      "is_main            0\n",
      "target             0\n",
      "dtype: int64\n"
     ]
    }
   ],
   "source": [
    "print(train.isnull().sum())"
   ]
  },
  {
   "cell_type": "code",
   "execution_count": 35,
   "id": "753d9bed-5587-487c-b0b6-53e43303a100",
   "metadata": {},
   "outputs": [
    {
     "name": "stdout",
     "output_type": "stream",
     "text": [
      "target\n",
      "0    0.99463\n",
      "1    0.00537\n",
      "Name: proportion, dtype: float64\n"
     ]
    }
   ],
   "source": [
    "print(train['target'].value_counts(normalize=True))"
   ]
  },
  {
   "cell_type": "code",
   "execution_count": 22,
   "id": "a2b8adcc-7e17-45e3-9c42-2e1a8f35e26c",
   "metadata": {},
   "outputs": [
    {
     "name": "stdout",
     "output_type": "stream",
     "text": [
      "   microcat_id  level_id  parent_microcat_id  logcat_id  vertical_id  \\\n",
      "0        33482       7.0             40172.0       54.0          3.0   \n",
      "1        27254       5.0             48637.0       55.0          5.0   \n",
      "2        37005       6.0             15332.0       54.0          3.0   \n",
      "3        31376       8.0             28137.0       58.0          8.0   \n",
      "4        20493       4.0             18343.0       24.0          8.0   \n",
      "\n",
      "   category_id  \n",
      "0          3.0  \n",
      "1          4.0  \n",
      "2          3.0  \n",
      "3          4.0  \n",
      "4          9.0  \n",
      "**********************************\n",
      "        microcat_id      level_id  parent_microcat_id     logcat_id  \\\n",
      "count  25891.000000  25890.000000        25888.000000  25883.000000   \n",
      "mean   25094.792438      6.021514        25007.398061     33.397867   \n",
      "std    14417.501552      0.887269        14519.892783     18.233059   \n",
      "min        3.000000      1.000000           12.000000      1.000000   \n",
      "25%    12599.000000      5.000000        12272.000000     18.000000   \n",
      "50%    25201.000000      6.000000        24291.000000     37.000000   \n",
      "75%    37631.000000      7.000000        38448.000000     54.000000   \n",
      "max    49951.000000      8.000000        49936.000000     66.000000   \n",
      "\n",
      "        vertical_id   category_id  \n",
      "count  25883.000000  25887.000000  \n",
      "mean       5.096859      3.956503  \n",
      "std        1.651994      1.402598  \n",
      "min        1.000000      1.000000  \n",
      "25%        4.000000      3.000000  \n",
      "50%        5.000000      4.000000  \n",
      "75%        5.000000      4.000000  \n",
      "max        9.000000     12.000000  \n",
      "**********************************\n",
      "microcat_id           0\n",
      "level_id              1\n",
      "parent_microcat_id    3\n",
      "logcat_id             8\n",
      "vertical_id           8\n",
      "category_id           4\n",
      "dtype: int64\n"
     ]
    }
   ],
   "source": [
    "#|-- microcat_id: id микрокатегории \n",
    "#|-- level_id: id уровня в дереве микрокатегорий\n",
    "#|-- parent_microcat_id: id родительской микрокатегории\n",
    "#|-- logcat_id: id логической категории \n",
    "#|-- vertical_id: id вертикали \n",
    "#|-- category_id: id категории \n",
    "\n",
    "print(categories.head())\n",
    "print('**********************************')\n",
    "print(categories.describe())\n",
    "print('**********************************')\n",
    "print(categories.isnull().sum())"
   ]
  },
  {
   "cell_type": "code",
   "execution_count": 53,
   "id": "e2482106-cf89-4389-87eb-b435a18f660d",
   "metadata": {},
   "outputs": [
    {
     "name": "stdout",
     "output_type": "stream",
     "text": [
      "   adv_campaign_id  start_date    end_date  goal_cost  goal_budget  \\\n",
      "0             2153  2024-09-21  2024-10-02   6.661659  9429.056096   \n",
      "1             3103  2024-09-10  2024-09-16   2.853378  3844.482933   \n",
      "2             2816  2024-09-10  2024-09-17   3.058230  1455.156612   \n",
      "3             3603  2024-09-10  2024-09-16   4.395015  2592.232475   \n",
      "4             1328  2024-09-10  2024-09-16   3.891329  2836.139672   \n",
      "\n",
      "   location_id  logcat_id  \n",
      "0           70         59  \n",
      "1           30         40  \n",
      "2           56         65  \n",
      "3           30         50  \n",
      "4           30         51  \n",
      "       adv_campaign_id    goal_cost    goal_budget  location_id    logcat_id\n",
      "count       4031.00000  4031.000000    4031.000000  4031.000000  4031.000000\n",
      "mean        2099.56512     5.242840    7113.443134    39.466882    40.219052\n",
      "std         1213.41340     3.547009   14102.599591    21.446496    18.289209\n",
      "min            1.00000     0.950574       6.702396     1.000000     1.000000\n",
      "25%         1049.50000     3.018347    1002.285864    27.000000    26.000000\n",
      "50%         2103.00000     4.221662    3282.187078    46.000000    40.000000\n",
      "75%         3152.50000     6.437592    7509.600093    55.500000    56.000000\n",
      "max         4200.00000    49.866865  227679.963364    79.000000    66.000000\n",
      "adv_campaign_id    0\n",
      "start_date         0\n",
      "end_date           0\n",
      "goal_cost          0\n",
      "goal_budget        0\n",
      "location_id        0\n",
      "logcat_id          0\n",
      "dtype: int64\n"
     ]
    }
   ],
   "source": [
    "#|-- adv_campaign_id: id рекламной компании \n",
    "#|-- start_date: date дата начала рекламной компании \n",
    "#|-- end_date: date дата завершения рекламной компании\n",
    "#|-- goal_cost: цена за клик на рекламу\n",
    "#|-- goal_budget: общий бюджет рекламной компании\n",
    "#|-- logcat_id: id логической категории товаров из рекламной кампании\n",
    "#|-- location_ids: id локации, на которую рекламная компания распространяется \n",
    "\n",
    "print(campaigns.head())\n",
    "print(campaigns.describe())\n",
    "print(campaigns.isnull().sum())"
   ]
  },
  {
   "cell_type": "code",
   "execution_count": 101,
   "id": "a97df2c6-3399-4892-bd8b-72d1dd03cd65",
   "metadata": {},
   "outputs": [
    {
     "name": "stdout",
     "output_type": "stream",
     "text": [
      "                  user_id  adv_campaign_id  platform_id  adv_creative_id  \\\n",
      "user_id          1.000000         0.000245     0.001500        -0.000136   \n",
      "adv_campaign_id  0.000245         1.000000    -0.005439         0.014144   \n",
      "platform_id      0.001500        -0.005439     1.000000         0.003247   \n",
      "adv_creative_id -0.000136         0.014144     0.003247         1.000000   \n",
      "event_date      -0.000360         0.021205    -0.009016        -0.005474   \n",
      "banner_code     -0.000742         0.002935    -0.612264        -0.007801   \n",
      "is_main          0.000354        -0.001313    -0.054624        -0.006872   \n",
      "target           0.000007         0.000171    -0.009822        -0.001688   \n",
      "\n",
      "                 event_date  banner_code   is_main    target  \n",
      "user_id           -0.000360    -0.000742  0.000354  0.000007  \n",
      "adv_campaign_id    0.021205     0.002935 -0.001313  0.000171  \n",
      "platform_id       -0.009016    -0.612264 -0.054624 -0.009822  \n",
      "adv_creative_id   -0.005474    -0.007801 -0.006872 -0.001688  \n",
      "event_date         1.000000    -0.000413 -0.003765  0.004787  \n",
      "banner_code       -0.000413     1.000000  0.681946 -0.006958  \n",
      "is_main           -0.003765     0.681946  1.000000 -0.025686  \n",
      "target             0.004787    -0.006958 -0.025686  1.000000  \n"
     ]
    }
   ],
   "source": [
    "# Корреляционная матрица (Пирсон)\n",
    "correlation_matrix = train.corr()\n",
    "print(correlation_matrix)"
   ]
  },
  {
   "cell_type": "code",
   "execution_count": 6,
   "id": "14a07ab3-1a0d-4170-862c-4038b6496cca",
   "metadata": {},
   "outputs": [],
   "source": [
    "# JOIN 2х датасетов\n",
    "merge_df_1 = pd.merge(train, campaigns, on='adv_campaign_id', how='left')"
   ]
  },
  {
   "cell_type": "code",
   "execution_count": 8,
   "id": "ffbb0fef-4e7a-4028-b0af-7ffa15ca1954",
   "metadata": {},
   "outputs": [
    {
     "name": "stdout",
     "output_type": "stream",
     "text": [
      "**********************************\n",
      "   user_id  adv_campaign_id  platform_id  adv_creative_id event_date  \\\n",
      "0  2853707             3352            3             3075 2024-09-17   \n",
      "1  2537244             4029            2             3260 2024-09-17   \n",
      "2    63033             1578            3             1109 2024-09-17   \n",
      "3   164702             3434            1             1079 2024-09-17   \n",
      "4  2802905             2208            3             3576 2024-09-17   \n",
      "\n",
      "   banner_code  is_main  target  start_date    end_date  goal_cost  \\\n",
      "0            6     True       0  2024-09-16  2024-09-25   5.131051   \n",
      "1            8     True       0  2024-09-16  2024-09-22   4.931622   \n",
      "2            6     True       0  2024-09-04  2024-09-18   3.711480   \n",
      "3            7     True       0  2024-09-17  2024-09-24   4.030369   \n",
      "4            6     True       0  2024-09-16  2024-09-22   4.931534   \n",
      "\n",
      "   goal_budget  location_id  logcat_id  \n",
      "0  2647.795831            9         56  \n",
      "1  6953.261023           46         65  \n",
      "2  7035.724050            1         65  \n",
      "3  5034.412852           47         65  \n",
      "4  7024.725026           46         65  \n"
     ]
    }
   ],
   "source": [
    "#print(merge_df_1.info())\n",
    "print('**********************************')\n",
    "print(merge_df_1.head())"
   ]
  },
  {
   "cell_type": "code",
   "execution_count": 43,
   "id": "adfd6c85-343a-42ba-9746-163f20b90521",
   "metadata": {},
   "outputs": [
    {
     "data": {
      "text/plain": [
       "<Axes: xlabel='ads_duration', ylabel='goal_cost'>"
      ]
     },
     "execution_count": 43,
     "metadata": {},
     "output_type": "execute_result"
    },
    {
     "data": {
      "image/png": "[encoded data removed]",
      "text/plain": [
       "<Figure size 640x480 with 1 Axes>"
      ]
     },
     "metadata": {},
     "output_type": "display_data"
    }
   ],
   "source": [
    "# проверка фич\n",
    "\n",
    "# Смотрим campaigns\n",
    "campaigns.start_date = pd.to_datetime(campaigns.start_date)\n",
    "campaigns.end_date = pd.to_datetime(campaigns.end_date)\n",
    "campaigns['ads_duration'] = (campaigns.end_date - campaigns.start_date).dt.days\n",
    "campaigns.plot.scatter(x='ads_duration', y='goal_cost')"
   ]
  },
  {
   "cell_type": "code",
   "execution_count": 13,
   "id": "a2c447f4-0383-43e7-a02d-c7e47e5078a8",
   "metadata": {},
   "outputs": [
    {
     "data": {
      "text/plain": [
       "<Axes: xlabel='logcat_id', ylabel='goal_budget'>"
      ]
     },
     "execution_count": 13,
     "metadata": {},
     "output_type": "execute_result"
    },
    {
     "data": {
      "image/png": "[encoded data removed]",
      "text/plain": [
       "<Figure size 640x480 with 1 Axes>"
      ]
     },
     "metadata": {},
     "output_type": "display_data"
    }
   ],
   "source": [
    "campaigns.plot.scatter(x='logcat_id', y='goal_budget')"
   ]
  },
  {
   "cell_type": "code",
   "execution_count": null,
   "id": "183076eb-04ed-491c-ae59-0b060b695e9d",
   "metadata": {},
   "outputs": [],
   "source": [
    "**Выводы:** длительность рекламы и ее направление не критично влияет на стоимость - есть просто дорогая и дешевая реклама"
   ]
  },
  {
   "cell_type": "code",
   "execution_count": 25,
   "id": "980370e5-33c4-4494-858f-67fe9c32f214",
   "metadata": {},
   "outputs": [
    {
     "data": {
      "text/plain": [
       "<Axes: ylabel='Frequency'>"
      ]
     },
     "execution_count": 25,
     "metadata": {},
     "output_type": "execute_result"
    },
    {
     "data": {
      "image/png": "[encoded data removed]",
      "text/plain": [
       "<Figure size 640x480 with 1 Axes>"
      ]
     },
     "metadata": {},
     "output_type": "display_data"
    }
   ],
   "source": [
    "campaigns.plot.hist(column='goal_cost', bins=16)"
   ]
  },
  {
   "cell_type": "code",
   "execution_count": 27,
   "id": "dc1a9d21-c5a8-4d67-a79f-59ed3a0cfce0",
   "metadata": {},
   "outputs": [
    {
     "data": {
      "text/plain": [
       "<Axes: ylabel='Frequency'>"
      ]
     },
     "execution_count": 27,
     "metadata": {},
     "output_type": "execute_result"
    },
    {
     "data": {
      "image/png": "[encoded data removed]",
      "text/plain": [
       "<Figure size 640x480 with 1 Axes>"
      ]
     },
     "metadata": {},
     "output_type": "display_data"
    }
   ],
   "source": [
    "campaigns.plot.hist(column='goal_budget', bins=16)"
   ]
  },
  {
   "cell_type": "code",
   "execution_count": 29,
   "id": "0eee8c24-adc5-41d3-847e-cf45754ef19e",
   "metadata": {},
   "outputs": [
    {
     "data": {
      "text/html": [
       "<div>\n",
       "<style scoped>\n",
       "    .dataframe tbody tr th:only-of-type {\n",
       "        vertical-align: middle;\n",
       "    }\n",
       "\n",
       "    .dataframe tbody tr th {\n",
       "        vertical-align: top;\n",
       "    }\n",
       "\n",
       "    .dataframe thead th {\n",
       "        text-align: right;\n",
       "    }\n",
       "</style>\n",
       "<table border=\"1\" class=\"dataframe\">\n",
       "  <thead>\n",
       "    <tr style=\"text-align: right;\">\n",
       "      <th></th>\n",
       "      <th>adv_campaign_id</th>\n",
       "      <th>start_date</th>\n",
       "      <th>end_date</th>\n",
       "      <th>goal_cost</th>\n",
       "      <th>goal_budget</th>\n",
       "      <th>location_id</th>\n",
       "      <th>logcat_id</th>\n",
       "    </tr>\n",
       "  </thead>\n",
       "  <tbody>\n",
       "    <tr>\n",
       "      <th>2238</th>\n",
       "      <td>2155</td>\n",
       "      <td>2024-09-17</td>\n",
       "      <td>2024-09-23</td>\n",
       "      <td>17.779562</td>\n",
       "      <td>227679.963364</td>\n",
       "      <td>46</td>\n",
       "      <td>18</td>\n",
       "    </tr>\n",
       "    <tr>\n",
       "      <th>3510</th>\n",
       "      <td>739</td>\n",
       "      <td>2024-09-18</td>\n",
       "      <td>2024-09-30</td>\n",
       "      <td>13.372574</td>\n",
       "      <td>214395.923782</td>\n",
       "      <td>30</td>\n",
       "      <td>18</td>\n",
       "    </tr>\n",
       "    <tr>\n",
       "      <th>3463</th>\n",
       "      <td>217</td>\n",
       "      <td>2024-08-20</td>\n",
       "      <td>2024-08-31</td>\n",
       "      <td>14.050671</td>\n",
       "      <td>198957.100367</td>\n",
       "      <td>30</td>\n",
       "      <td>18</td>\n",
       "    </tr>\n",
       "    <tr>\n",
       "      <th>2822</th>\n",
       "      <td>1535</td>\n",
       "      <td>2024-07-19</td>\n",
       "      <td>2024-07-26</td>\n",
       "      <td>14.826908</td>\n",
       "      <td>177596.710739</td>\n",
       "      <td>30</td>\n",
       "      <td>18</td>\n",
       "    </tr>\n",
       "    <tr>\n",
       "      <th>2821</th>\n",
       "      <td>2388</td>\n",
       "      <td>2024-07-22</td>\n",
       "      <td>2024-07-31</td>\n",
       "      <td>12.142784</td>\n",
       "      <td>168557.254495</td>\n",
       "      <td>46</td>\n",
       "      <td>18</td>\n",
       "    </tr>\n",
       "    <tr>\n",
       "      <th>2871</th>\n",
       "      <td>2456</td>\n",
       "      <td>2024-09-12</td>\n",
       "      <td>2024-09-20</td>\n",
       "      <td>13.029493</td>\n",
       "      <td>151036.590034</td>\n",
       "      <td>30</td>\n",
       "      <td>18</td>\n",
       "    </tr>\n",
       "    <tr>\n",
       "      <th>172</th>\n",
       "      <td>2656</td>\n",
       "      <td>2024-07-29</td>\n",
       "      <td>2024-08-05</td>\n",
       "      <td>13.373868</td>\n",
       "      <td>150649.439149</td>\n",
       "      <td>46</td>\n",
       "      <td>18</td>\n",
       "    </tr>\n",
       "    <tr>\n",
       "      <th>2347</th>\n",
       "      <td>1453</td>\n",
       "      <td>2024-08-08</td>\n",
       "      <td>2024-08-31</td>\n",
       "      <td>8.549973</td>\n",
       "      <td>141543.498925</td>\n",
       "      <td>47</td>\n",
       "      <td>18</td>\n",
       "    </tr>\n",
       "    <tr>\n",
       "      <th>2870</th>\n",
       "      <td>699</td>\n",
       "      <td>2024-09-12</td>\n",
       "      <td>2024-09-19</td>\n",
       "      <td>13.839542</td>\n",
       "      <td>140677.624582</td>\n",
       "      <td>46</td>\n",
       "      <td>18</td>\n",
       "    </tr>\n",
       "    <tr>\n",
       "      <th>3606</th>\n",
       "      <td>1674</td>\n",
       "      <td>2024-08-08</td>\n",
       "      <td>2024-08-31</td>\n",
       "      <td>8.307261</td>\n",
       "      <td>139413.638385</td>\n",
       "      <td>47</td>\n",
       "      <td>18</td>\n",
       "    </tr>\n",
       "    <tr>\n",
       "      <th>1964</th>\n",
       "      <td>1809</td>\n",
       "      <td>2024-08-08</td>\n",
       "      <td>2024-09-04</td>\n",
       "      <td>6.955160</td>\n",
       "      <td>133876.688625</td>\n",
       "      <td>47</td>\n",
       "      <td>18</td>\n",
       "    </tr>\n",
       "    <tr>\n",
       "      <th>737</th>\n",
       "      <td>4080</td>\n",
       "      <td>2024-08-08</td>\n",
       "      <td>2024-08-31</td>\n",
       "      <td>8.168774</td>\n",
       "      <td>131834.656011</td>\n",
       "      <td>47</td>\n",
       "      <td>18</td>\n",
       "    </tr>\n",
       "    <tr>\n",
       "      <th>2830</th>\n",
       "      <td>2160</td>\n",
       "      <td>2024-08-27</td>\n",
       "      <td>2024-09-03</td>\n",
       "      <td>12.816965</td>\n",
       "      <td>130381.090468</td>\n",
       "      <td>46</td>\n",
       "      <td>18</td>\n",
       "    </tr>\n",
       "    <tr>\n",
       "      <th>825</th>\n",
       "      <td>1395</td>\n",
       "      <td>2024-08-08</td>\n",
       "      <td>2024-09-02</td>\n",
       "      <td>6.898775</td>\n",
       "      <td>124257.868872</td>\n",
       "      <td>47</td>\n",
       "      <td>18</td>\n",
       "    </tr>\n",
       "    <tr>\n",
       "      <th>3114</th>\n",
       "      <td>74</td>\n",
       "      <td>2024-08-30</td>\n",
       "      <td>2024-09-28</td>\n",
       "      <td>11.028458</td>\n",
       "      <td>122677.087615</td>\n",
       "      <td>46</td>\n",
       "      <td>18</td>\n",
       "    </tr>\n",
       "    <tr>\n",
       "      <th>3844</th>\n",
       "      <td>1254</td>\n",
       "      <td>2024-08-27</td>\n",
       "      <td>2024-09-02</td>\n",
       "      <td>12.565424</td>\n",
       "      <td>120023.552766</td>\n",
       "      <td>46</td>\n",
       "      <td>18</td>\n",
       "    </tr>\n",
       "    <tr>\n",
       "      <th>3749</th>\n",
       "      <td>272</td>\n",
       "      <td>2024-09-17</td>\n",
       "      <td>2024-10-16</td>\n",
       "      <td>10.484921</td>\n",
       "      <td>115893.600276</td>\n",
       "      <td>46</td>\n",
       "      <td>35</td>\n",
       "    </tr>\n",
       "    <tr>\n",
       "      <th>1628</th>\n",
       "      <td>1194</td>\n",
       "      <td>2024-09-10</td>\n",
       "      <td>2024-09-30</td>\n",
       "      <td>3.342502</td>\n",
       "      <td>111807.927745</td>\n",
       "      <td>46</td>\n",
       "      <td>26</td>\n",
       "    </tr>\n",
       "    <tr>\n",
       "      <th>3840</th>\n",
       "      <td>3862</td>\n",
       "      <td>2024-07-22</td>\n",
       "      <td>2024-07-28</td>\n",
       "      <td>12.861852</td>\n",
       "      <td>110952.476721</td>\n",
       "      <td>46</td>\n",
       "      <td>18</td>\n",
       "    </tr>\n",
       "    <tr>\n",
       "      <th>3489</th>\n",
       "      <td>3873</td>\n",
       "      <td>2024-09-11</td>\n",
       "      <td>2024-09-17</td>\n",
       "      <td>13.467875</td>\n",
       "      <td>108175.844872</td>\n",
       "      <td>30</td>\n",
       "      <td>18</td>\n",
       "    </tr>\n",
       "    <tr>\n",
       "      <th>284</th>\n",
       "      <td>1693</td>\n",
       "      <td>2024-09-12</td>\n",
       "      <td>2024-09-22</td>\n",
       "      <td>13.044078</td>\n",
       "      <td>107535.875532</td>\n",
       "      <td>31</td>\n",
       "      <td>18</td>\n",
       "    </tr>\n",
       "    <tr>\n",
       "      <th>2255</th>\n",
       "      <td>435</td>\n",
       "      <td>2024-08-07</td>\n",
       "      <td>2024-08-13</td>\n",
       "      <td>12.089944</td>\n",
       "      <td>106419.784027</td>\n",
       "      <td>46</td>\n",
       "      <td>18</td>\n",
       "    </tr>\n",
       "    <tr>\n",
       "      <th>2360</th>\n",
       "      <td>3342</td>\n",
       "      <td>2024-09-03</td>\n",
       "      <td>2024-09-30</td>\n",
       "      <td>15.454881</td>\n",
       "      <td>103374.543089</td>\n",
       "      <td>30</td>\n",
       "      <td>25</td>\n",
       "    </tr>\n",
       "    <tr>\n",
       "      <th>1739</th>\n",
       "      <td>3874</td>\n",
       "      <td>2024-08-16</td>\n",
       "      <td>2024-08-30</td>\n",
       "      <td>3.775655</td>\n",
       "      <td>100310.363301</td>\n",
       "      <td>46</td>\n",
       "      <td>26</td>\n",
       "    </tr>\n",
       "  </tbody>\n",
       "</table>\n",
       "</div>"
      ],
      "text/plain": [
       "      adv_campaign_id  start_date    end_date  goal_cost    goal_budget  \\\n",
       "2238             2155  2024-09-17  2024-09-23  17.779562  227679.963364   \n",
       "3510              739  2024-09-18  2024-09-30  13.372574  214395.923782   \n",
       "3463              217  2024-08-20  2024-08-31  14.050671  198957.100367   \n",
       "2822             1535  2024-07-19  2024-07-26  14.826908  177596.710739   \n",
       "2821             2388  2024-07-22  2024-07-31  12.142784  168557.254495   \n",
       "2871             2456  2024-09-12  2024-09-20  13.029493  151036.590034   \n",
       "172              2656  2024-07-29  2024-08-05  13.373868  150649.439149   \n",
       "2347             1453  2024-08-08  2024-08-31   8.549973  141543.498925   \n",
       "2870              699  2024-09-12  2024-09-19  13.839542  140677.624582   \n",
       "3606             1674  2024-08-08  2024-08-31   8.307261  139413.638385   \n",
       "1964             1809  2024-08-08  2024-09-04   6.955160  133876.688625   \n",
       "737              4080  2024-08-08  2024-08-31   8.168774  131834.656011   \n",
       "2830             2160  2024-08-27  2024-09-03  12.816965  130381.090468   \n",
       "825              1395  2024-08-08  2024-09-02   6.898775  124257.868872   \n",
       "3114               74  2024-08-30  2024-09-28  11.028458  122677.087615   \n",
       "3844             1254  2024-08-27  2024-09-02  12.565424  120023.552766   \n",
       "3749              272  2024-09-17  2024-10-16  10.484921  115893.600276   \n",
       "1628             1194  2024-09-10  2024-09-30   3.342502  111807.927745   \n",
       "3840             3862  2024-07-22  2024-07-28  12.861852  110952.476721   \n",
       "3489             3873  2024-09-11  2024-09-17  13.467875  108175.844872   \n",
       "284              1693  2024-09-12  2024-09-22  13.044078  107535.875532   \n",
       "2255              435  2024-08-07  2024-08-13  12.089944  106419.784027   \n",
       "2360             3342  2024-09-03  2024-09-30  15.454881  103374.543089   \n",
       "1739             3874  2024-08-16  2024-08-30   3.775655  100310.363301   \n",
       "\n",
       "      location_id  logcat_id  \n",
       "2238           46         18  \n",
       "3510           30         18  \n",
       "3463           30         18  \n",
       "2822           30         18  \n",
       "2821           46         18  \n",
       "2871           30         18  \n",
       "172            46         18  \n",
       "2347           47         18  \n",
       "2870           46         18  \n",
       "3606           47         18  \n",
       "1964           47         18  \n",
       "737            47         18  \n",
       "2830           46         18  \n",
       "825            47         18  \n",
       "3114           46         18  \n",
       "3844           46         18  \n",
       "3749           46         35  \n",
       "1628           46         26  \n",
       "3840           46         18  \n",
       "3489           30         18  \n",
       "284            31         18  \n",
       "2255           46         18  \n",
       "2360           30         25  \n",
       "1739           46         26  "
      ]
     },
     "execution_count": 29,
     "metadata": {},
     "output_type": "execute_result"
    }
   ],
   "source": [
    "campaigns[campaigns['goal_budget'] > 100000].sort_values(by='goal_budget', ascending=False)"
   ]
  },
  {
   "cell_type": "code",
   "execution_count": 47,
   "id": "47693335-c745-49c7-bd96-915e50d6faa2",
   "metadata": {},
   "outputs": [
    {
     "data": {
      "text/html": [
       "<div>\n",
       "<style scoped>\n",
       "    .dataframe tbody tr th:only-of-type {\n",
       "        vertical-align: middle;\n",
       "    }\n",
       "\n",
       "    .dataframe tbody tr th {\n",
       "        vertical-align: top;\n",
       "    }\n",
       "\n",
       "    .dataframe thead th {\n",
       "        text-align: right;\n",
       "    }\n",
       "</style>\n",
       "<table border=\"1\" class=\"dataframe\">\n",
       "  <thead>\n",
       "    <tr style=\"text-align: right;\">\n",
       "      <th></th>\n",
       "      <th>adv_campaign_id</th>\n",
       "      <th>start_date</th>\n",
       "      <th>end_date</th>\n",
       "      <th>goal_cost</th>\n",
       "      <th>goal_budget</th>\n",
       "      <th>location_id</th>\n",
       "      <th>logcat_id</th>\n",
       "      <th>price_per_day</th>\n",
       "      <th>ads_duration</th>\n",
       "    </tr>\n",
       "  </thead>\n",
       "  <tbody>\n",
       "    <tr>\n",
       "      <th>adv_campaign_id</th>\n",
       "      <td>1.000000</td>\n",
       "      <td>-0.006608</td>\n",
       "      <td>-0.007785</td>\n",
       "      <td>0.024338</td>\n",
       "      <td>-0.014800</td>\n",
       "      <td>-0.016127</td>\n",
       "      <td>-0.000839</td>\n",
       "      <td>-0.007470</td>\n",
       "      <td>-0.002262</td>\n",
       "    </tr>\n",
       "    <tr>\n",
       "      <th>start_date</th>\n",
       "      <td>-0.006608</td>\n",
       "      <td>1.000000</td>\n",
       "      <td>0.863427</td>\n",
       "      <td>0.035714</td>\n",
       "      <td>-0.209563</td>\n",
       "      <td>-0.028201</td>\n",
       "      <td>-0.014357</td>\n",
       "      <td>-0.149300</td>\n",
       "      <td>-0.260024</td>\n",
       "    </tr>\n",
       "    <tr>\n",
       "      <th>end_date</th>\n",
       "      <td>-0.007785</td>\n",
       "      <td>0.863427</td>\n",
       "      <td>1.000000</td>\n",
       "      <td>0.009941</td>\n",
       "      <td>-0.130941</td>\n",
       "      <td>-0.017183</td>\n",
       "      <td>-0.034059</td>\n",
       "      <td>-0.203493</td>\n",
       "      <td>0.262610</td>\n",
       "    </tr>\n",
       "    <tr>\n",
       "      <th>goal_cost</th>\n",
       "      <td>0.024338</td>\n",
       "      <td>0.035714</td>\n",
       "      <td>0.009941</td>\n",
       "      <td>1.000000</td>\n",
       "      <td>0.347853</td>\n",
       "      <td>-0.053019</td>\n",
       "      <td>-0.247352</td>\n",
       "      <td>0.371533</td>\n",
       "      <td>-0.049282</td>\n",
       "    </tr>\n",
       "    <tr>\n",
       "      <th>goal_budget</th>\n",
       "      <td>-0.014800</td>\n",
       "      <td>-0.209563</td>\n",
       "      <td>-0.130941</td>\n",
       "      <td>0.347853</td>\n",
       "      <td>1.000000</td>\n",
       "      <td>0.007195</td>\n",
       "      <td>-0.120989</td>\n",
       "      <td>0.863990</td>\n",
       "      <td>0.150198</td>\n",
       "    </tr>\n",
       "    <tr>\n",
       "      <th>location_id</th>\n",
       "      <td>-0.016127</td>\n",
       "      <td>-0.028201</td>\n",
       "      <td>-0.017183</td>\n",
       "      <td>-0.053019</td>\n",
       "      <td>0.007195</td>\n",
       "      <td>1.000000</td>\n",
       "      <td>-0.018685</td>\n",
       "      <td>-0.006791</td>\n",
       "      <td>0.021050</td>\n",
       "    </tr>\n",
       "    <tr>\n",
       "      <th>logcat_id</th>\n",
       "      <td>-0.000839</td>\n",
       "      <td>-0.014357</td>\n",
       "      <td>-0.034059</td>\n",
       "      <td>-0.247352</td>\n",
       "      <td>-0.120989</td>\n",
       "      <td>-0.018685</td>\n",
       "      <td>1.000000</td>\n",
       "      <td>-0.111028</td>\n",
       "      <td>-0.037731</td>\n",
       "    </tr>\n",
       "    <tr>\n",
       "      <th>price_per_day</th>\n",
       "      <td>-0.007470</td>\n",
       "      <td>-0.149300</td>\n",
       "      <td>-0.203493</td>\n",
       "      <td>0.371533</td>\n",
       "      <td>0.863990</td>\n",
       "      <td>-0.006791</td>\n",
       "      <td>-0.111028</td>\n",
       "      <td>1.000000</td>\n",
       "      <td>-0.103938</td>\n",
       "    </tr>\n",
       "    <tr>\n",
       "      <th>ads_duration</th>\n",
       "      <td>-0.002262</td>\n",
       "      <td>-0.260024</td>\n",
       "      <td>0.262610</td>\n",
       "      <td>-0.049282</td>\n",
       "      <td>0.150198</td>\n",
       "      <td>0.021050</td>\n",
       "      <td>-0.037731</td>\n",
       "      <td>-0.103938</td>\n",
       "      <td>1.000000</td>\n",
       "    </tr>\n",
       "  </tbody>\n",
       "</table>\n",
       "</div>"
      ],
      "text/plain": [
       "                 adv_campaign_id  start_date  end_date  goal_cost  \\\n",
       "adv_campaign_id         1.000000   -0.006608 -0.007785   0.024338   \n",
       "start_date             -0.006608    1.000000  0.863427   0.035714   \n",
       "end_date               -0.007785    0.863427  1.000000   0.009941   \n",
       "goal_cost               0.024338    0.035714  0.009941   1.000000   \n",
       "goal_budget            -0.014800   -0.209563 -0.130941   0.347853   \n",
       "location_id            -0.016127   -0.028201 -0.017183  -0.053019   \n",
       "logcat_id              -0.000839   -0.014357 -0.034059  -0.247352   \n",
       "price_per_day          -0.007470   -0.149300 -0.203493   0.371533   \n",
       "ads_duration           -0.002262   -0.260024  0.262610  -0.049282   \n",
       "\n",
       "                 goal_budget  location_id  logcat_id  price_per_day  \\\n",
       "adv_campaign_id    -0.014800    -0.016127  -0.000839      -0.007470   \n",
       "start_date         -0.209563    -0.028201  -0.014357      -0.149300   \n",
       "end_date           -0.130941    -0.017183  -0.034059      -0.203493   \n",
       "goal_cost           0.347853    -0.053019  -0.247352       0.371533   \n",
       "goal_budget         1.000000     0.007195  -0.120989       0.863990   \n",
       "location_id         0.007195     1.000000  -0.018685      -0.006791   \n",
       "logcat_id          -0.120989    -0.018685   1.000000      -0.111028   \n",
       "price_per_day       0.863990    -0.006791  -0.111028       1.000000   \n",
       "ads_duration        0.150198     0.021050  -0.037731      -0.103938   \n",
       "\n",
       "                 ads_duration  \n",
       "adv_campaign_id     -0.002262  \n",
       "start_date          -0.260024  \n",
       "end_date             0.262610  \n",
       "goal_cost           -0.049282  \n",
       "goal_budget          0.150198  \n",
       "location_id          0.021050  \n",
       "logcat_id           -0.037731  \n",
       "price_per_day       -0.103938  \n",
       "ads_duration         1.000000  "
      ]
     },
     "execution_count": 47,
     "metadata": {},
     "output_type": "execute_result"
    }
   ],
   "source": [
    "campaigns['price_per_day'] = campaigns.goal_budget / campaigns.ads_duration\n",
    "campaigns.corr()"
   ]
  },
  {
   "cell_type": "code",
   "execution_count": 53,
   "id": "2a3f3d1e-428c-4b6f-a314-82d1037ea13a",
   "metadata": {},
   "outputs": [
    {
     "name": "stdout",
     "output_type": "stream",
     "text": [
      "   adv_campaign_id start_date   end_date  goal_cost  goal_budget  location_id  \\\n",
      "0             2153 2024-09-21 2024-10-02   6.661659  9429.056096           70   \n",
      "1             2153 2024-09-21 2024-10-02   6.661659  9429.056096           70   \n",
      "2             2153 2024-09-21 2024-10-02   6.661659  9429.056096           70   \n",
      "3             2153 2024-09-21 2024-10-02   6.661659  9429.056096           70   \n",
      "4             2153 2024-09-21 2024-10-02   6.661659  9429.056096           70   \n",
      "\n",
      "   logcat_id  price_per_day  ads_duration  microcat_id  level_id  \\\n",
      "0         59     857.186918            11        25237       4.0   \n",
      "1         59     857.186918            11        41723       4.0   \n",
      "2         59     857.186918            11        18532       4.0   \n",
      "3         59     857.186918            11         6006       3.0   \n",
      "4         59     857.186918            11        37286       4.0   \n",
      "\n",
      "   parent_microcat_id  vertical_id  category_id  \n",
      "0              6006.0          8.0          5.0  \n",
      "1              6006.0          8.0          5.0  \n",
      "2              6006.0          8.0          5.0  \n",
      "3             29785.0          8.0          5.0  \n",
      "4              6006.0          8.0          5.0  \n"
     ]
    }
   ],
   "source": [
    "campaings_cat = campaigns.merge(categories, on='logcat_id')\n",
    "print(campaings_cat.head())"
   ]
  },
  {
   "cell_type": "code",
   "execution_count": 55,
   "id": "4b2936e6-f3cf-4e96-8407-531c8ff3c284",
   "metadata": {},
   "outputs": [
    {
     "data": {
      "text/plain": [
       "<Axes: xlabel='dow'>"
      ]
     },
     "execution_count": 55,
     "metadata": {},
     "output_type": "execute_result"
    },
    {
     "data": {
      "image/png": "[encoded data removed]",
      "text/plain": [
       "<Figure size 640x480 with 1 Axes>"
      ]
     },
     "metadata": {},
     "output_type": "display_data"
    }
   ],
   "source": [
    "train['dow'] = train['event_date'].dt.weekday\n",
    "count_data = train.groupby(['dow', 'target']).size().unstack(fill_value=0)\n",
    "count_data.plot(kind='bar')"
   ]
  },
  {
   "cell_type": "code",
   "execution_count": 57,
   "id": "9d7010ed-f433-452f-b2e6-46373da334d2",
   "metadata": {},
   "outputs": [
    {
     "data": {
      "text/plain": [
       "target\n",
       "0    18733310\n",
       "1      103418\n",
       "Name: count, dtype: int64"
      ]
     },
     "execution_count": 57,
     "metadata": {},
     "output_type": "execute_result"
    }
   ],
   "source": [
    "train[train['dow'] == 6]['target'].value_counts()"
   ]
  },
  {
   "cell_type": "code",
   "execution_count": 59,
   "id": "3b30e8b2-e656-4900-9236-c4fd2d4b37b5",
   "metadata": {},
   "outputs": [
    {
     "data": {
      "text/plain": [
       "target\n",
       "0    13609760\n",
       "1       69815\n",
       "Name: count, dtype: int64"
      ]
     },
     "execution_count": 59,
     "metadata": {},
     "output_type": "execute_result"
    }
   ],
   "source": [
    "train[train['dow'] == 0]['target'].value_counts()"
   ]
  },
  {
   "cell_type": "code",
   "execution_count": 61,
   "id": "71466526-7f86-471e-b69d-b68cec2a45bc",
   "metadata": {},
   "outputs": [
    {
     "data": {
      "text/plain": [
       "<Axes: xlabel='platform_id'>"
      ]
     },
     "execution_count": 61,
     "metadata": {},
     "output_type": "execute_result"
    },
    {
     "data": {
      "image/png": "[encoded data removed]",
      "text/plain": [
       "<Figure size 640x480 with 1 Axes>"
      ]
     },
     "metadata": {},
     "output_type": "display_data"
    }
   ],
   "source": [
    "train['platform_id'].value_counts().plot.bar()"
   ]
  },
  {
   "cell_type": "code",
   "execution_count": 63,
   "id": "a729d51c-2068-4e9f-9d97-4335c17b6669",
   "metadata": {},
   "outputs": [
    {
     "data": {
      "image/png": "[encoded data removed]",
      "text/plain": [
       "<Figure size 640x480 with 1 Axes>"
      ]
     },
     "metadata": {},
     "output_type": "display_data"
    }
   ],
   "source": [
    "count_data = train.groupby(['is_main', 'target']).size().unstack(fill_value=0).plot.bar()"
   ]
  },
  {
   "cell_type": "code",
   "execution_count": 10,
   "id": "ccea8579-c97c-4e05-964b-a462218bd752",
   "metadata": {},
   "outputs": [
    {
     "name": "stdout",
     "output_type": "stream",
     "text": [
      "[0 1]\n"
     ]
    }
   ],
   "source": []
  },
  {
   "cell_type": "code",
   "execution_count": null,
   "id": "e0a55b30-9dfd-42e0-bdb7-6a02e484f780",
   "metadata": {},
   "outputs": [],
   "source": []
  }
 ],
 "metadata": {
  "kernelspec": {
   "display_name": "Python 3 (ipykernel)",
   "language": "python",
   "name": "python3"
  },
  "language_info": {
   "codemirror_mode": {
    "name": "ipython",
    "version": 3
   },
   "file_extension": ".py",
   "mimetype": "text/x-python",
   "name": "python",
   "nbconvert_exporter": "python",
   "pygments_lexer": "ipython3",
   "version": "3.11.5"
  }
 },
 "nbformat": 4,
 "nbformat_minor": 5
}
